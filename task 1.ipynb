{
 "cells": [
  {
   "cell_type": "code",
   "execution_count": 3,
   "id": "a652fc07-7bbf-46ac-9735-fb7b19000407",
   "metadata": {},
   "outputs": [],
   "source": [
    "import pandas as pd\n",
    "import numpy as np\n",
    "import matplotlib.pyplot as plt\n",
    "import seaborn as sns\n",
    "\n",
    "# Load dataset\n",
    "df = pd.read_csv(r\"C:\\Users\\rines\\Downloads\\archive (9)\\Titanic-Dataset.csv\")  # Replace with your path"
   ]
  },
  {
   "cell_type": "code",
   "execution_count": 4,
   "id": "b14bf007-599f-4cf3-8a6e-bddcbcc62b45",
   "metadata": {},
   "outputs": [
    {
     "name": "stdout",
     "output_type": "stream",
     "text": [
      "   PassengerId  Survived  Pclass  \\\n",
      "0            1         0       3   \n",
      "1            2         1       1   \n",
      "2            3         1       3   \n",
      "3            4         1       1   \n",
      "4            5         0       3   \n",
      "\n",
      "                                                Name     Sex   Age  SibSp  \\\n",
      "0                            Braund, Mr. Owen Harris    male  22.0      1   \n",
      "1  Cumings, Mrs. John Bradley (Florence Briggs Th...  female  38.0      1   \n",
      "2                             Heikkinen, Miss. Laina  female  26.0      0   \n",
      "3       Futrelle, Mrs. Jacques Heath (Lily May Peel)  female  35.0      1   \n",
      "4                           Allen, Mr. William Henry    male  35.0      0   \n",
      "\n",
      "   Parch            Ticket     Fare Cabin Embarked  \n",
      "0      0         A/5 21171   7.2500   NaN        S  \n",
      "1      0          PC 17599  71.2833   C85        C  \n",
      "2      0  STON/O2. 3101282   7.9250   NaN        S  \n",
      "3      0            113803  53.1000  C123        S  \n",
      "4      0            373450   8.0500   NaN        S  \n",
      "<class 'pandas.core.frame.DataFrame'>\n",
      "RangeIndex: 891 entries, 0 to 890\n",
      "Data columns (total 12 columns):\n",
      " #   Column       Non-Null Count  Dtype  \n",
      "---  ------       --------------  -----  \n",
      " 0   PassengerId  891 non-null    int64  \n",
      " 1   Survived     891 non-null    int64  \n",
      " 2   Pclass       891 non-null    int64  \n",
      " 3   Name         891 non-null    object \n",
      " 4   Sex          891 non-null    object \n",
      " 5   Age          714 non-null    float64\n",
      " 6   SibSp        891 non-null    int64  \n",
      " 7   Parch        891 non-null    int64  \n",
      " 8   Ticket       891 non-null    object \n",
      " 9   Fare         891 non-null    float64\n",
      " 10  Cabin        204 non-null    object \n",
      " 11  Embarked     889 non-null    object \n",
      "dtypes: float64(2), int64(5), object(5)\n",
      "memory usage: 83.7+ KB\n",
      "None\n",
      "       PassengerId    Survived      Pclass         Age       SibSp  \\\n",
      "count   891.000000  891.000000  891.000000  714.000000  891.000000   \n",
      "mean    446.000000    0.383838    2.308642   29.699118    0.523008   \n",
      "std     257.353842    0.486592    0.836071   14.526497    1.102743   \n",
      "min       1.000000    0.000000    1.000000    0.420000    0.000000   \n",
      "25%     223.500000    0.000000    2.000000   20.125000    0.000000   \n",
      "50%     446.000000    0.000000    3.000000   28.000000    0.000000   \n",
      "75%     668.500000    1.000000    3.000000   38.000000    1.000000   \n",
      "max     891.000000    1.000000    3.000000   80.000000    8.000000   \n",
      "\n",
      "            Parch        Fare  \n",
      "count  891.000000  891.000000  \n",
      "mean     0.381594   32.204208  \n",
      "std      0.806057   49.693429  \n",
      "min      0.000000    0.000000  \n",
      "25%      0.000000    7.910400  \n",
      "50%      0.000000   14.454200  \n",
      "75%      0.000000   31.000000  \n",
      "max      6.000000  512.329200  \n",
      "PassengerId      0\n",
      "Survived         0\n",
      "Pclass           0\n",
      "Name             0\n",
      "Sex              0\n",
      "Age            177\n",
      "SibSp            0\n",
      "Parch            0\n",
      "Ticket           0\n",
      "Fare             0\n",
      "Cabin          687\n",
      "Embarked         2\n",
      "dtype: int64\n"
     ]
    }
   ],
   "source": [
    "print(df.head())\n",
    "print(df.info())\n",
    "print(df.describe())\n",
    "print(df.isnull().sum())"
   ]
  },
  {
   "cell_type": "code",
   "execution_count": 9,
   "id": "a4c7fe43-4881-4e82-bea0-e4c0d6f3b910",
   "metadata": {},
   "outputs": [
    {
     "name": "stdout",
     "output_type": "stream",
     "text": [
      "0\n",
      "0\n"
     ]
    }
   ],
   "source": [
    "print(df['Age'].isnull().sum())      \n",
    "print(df['Embarked'].isnull().sum())  "
   ]
  },
  {
   "cell_type": "code",
   "execution_count": 10,
   "id": "2154f699-2289-493b-927c-bf2ab508cbfc",
   "metadata": {},
   "outputs": [
    {
     "name": "stdout",
     "output_type": "stream",
     "text": [
      "    Age Embarked\n",
      "0  22.0        S\n",
      "1  38.0        C\n",
      "2  26.0        S\n",
      "3  35.0        S\n",
      "4  35.0        S\n",
      "5  28.0        Q\n",
      "6  54.0        S\n",
      "7   2.0        S\n",
      "8  27.0        S\n",
      "9  14.0        C\n"
     ]
    }
   ],
   "source": [
    "print(df[['Age', 'Embarked']].head(10))  "
   ]
  },
  {
   "cell_type": "code",
   "execution_count": 11,
   "id": "256b5fe5-f94c-48ef-ae0c-999514939143",
   "metadata": {},
   "outputs": [],
   "source": [
    "# Label Encoding for binary columns\n",
    "df['Sex'] = df['Sex'].map({'male': 0, 'female': 1})\n",
    "\n",
    "\n",
    "df = pd.get_dummies(df, columns=['Embarked'], drop_first=True)"
   ]
  },
  {
   "cell_type": "code",
   "execution_count": 18,
   "id": "910906ec-5a08-45c4-8ef5-7b3a3f6dcb7f",
   "metadata": {},
   "outputs": [
    {
     "name": "stdout",
     "output_type": "stream",
     "text": [
      "      Age  Sex\n",
      "0    22.0    0\n",
      "1    38.0    1\n",
      "2    26.0    1\n",
      "3    35.0    1\n",
      "4    35.0    0\n",
      "..    ...  ...\n",
      "886  27.0    0\n",
      "887  19.0    1\n",
      "888  28.0    1\n",
      "889  26.0    0\n",
      "890  32.0    0\n",
      "\n",
      "[891 rows x 2 columns]\n"
     ]
    }
   ],
   "source": [
    "print(df[['Age', 'Sex']])  # Shows both columns"
   ]
  },
  {
   "cell_type": "code",
   "execution_count": 20,
   "id": "7bc9ced6-f7d9-4fc8-ae49-afc3e086c39d",
   "metadata": {},
   "outputs": [],
   "source": [
    "from sklearn.preprocessing import StandardScaler\n",
    "\n",
    "scaler = StandardScaler()\n",
    "df[['Age', 'Fare']] = scaler.fit_transform(df[['Age', 'Fare']])"
   ]
  },
  {
   "cell_type": "code",
   "execution_count": 21,
   "id": "f28668f8-8fc0-4989-9d15-7d160e3d0ae3",
   "metadata": {},
   "outputs": [
    {
     "data": {
      "image/png": "[encoded data removed]",
      "text/plain": [
       "<Figure size 1000x500 with 1 Axes>"
      ]
     },
     "metadata": {},
     "output_type": "display_data"
    }
   ],
   "source": [
    "# Boxplot\n",
    "plt.figure(figsize=(10, 5))\n",
    "sns.boxplot(data=df[['Age', 'Fare']])\n",
    "plt.title('Outlier Detection')\n",
    "plt.show()\n",
    "\n",
    "# Remove outliers using IQR\n",
    "Q1 = df[['Age', 'Fare']].quantile(0.25)\n",
    "Q3 = df[['Age', 'Fare']].quantile(0.75)\n",
    "IQR = Q3 - Q1\n",
    "\n",
    "df = df[~((df[['Age', 'Fare']] < (Q1 - 1.5 * IQR)) | (df[['Age', 'Fare']] > (Q3 + 1.5 * IQR))).any(axis=1)]"
   ]
  },
  {
   "cell_type": "code",
   "execution_count": 22,
   "id": "c026e2fe-02f9-4d48-bb40-ebdd9e7cf23c",
   "metadata": {},
   "outputs": [
    {
     "name": "stdout",
     "output_type": "stream",
     "text": [
      "(721, 12)\n",
      "PassengerId    0\n",
      "Survived       0\n",
      "Pclass         0\n",
      "Name           0\n",
      "Sex            0\n",
      "Age            0\n",
      "SibSp          0\n",
      "Parch          0\n",
      "Ticket         0\n",
      "Fare           0\n",
      "Embarked_Q     0\n",
      "Embarked_S     0\n",
      "dtype: int64\n",
      "   PassengerId  Survived  Pclass  \\\n",
      "0            1         0       3   \n",
      "2            3         1       3   \n",
      "3            4         1       1   \n",
      "4            5         0       3   \n",
      "5            6         0       3   \n",
      "\n",
      "                                           Name  Sex       Age  SibSp  Parch  \\\n",
      "0                       Braund, Mr. Owen Harris    0 -0.565736      1      0   \n",
      "2                        Heikkinen, Miss. Laina    1 -0.258337      0      0   \n",
      "3  Futrelle, Mrs. Jacques Heath (Lily May Peel)    1  0.433312      1      0   \n",
      "4                      Allen, Mr. William Henry    0  0.433312      0      0   \n",
      "5                              Moran, Mr. James    0 -0.104637      0      0   \n",
      "\n",
      "             Ticket      Fare  Embarked_Q  Embarked_S  \n",
      "0         A/5 21171 -0.502445       False        True  \n",
      "2  STON/O2. 3101282 -0.488854       False        True  \n",
      "3            113803  0.420730       False        True  \n",
      "4            373450 -0.486337       False        True  \n",
      "5            330877 -0.478116        True       False  \n"
     ]
    }
   ],
   "source": [
    "print(df.shape)\n",
    "print(df.isnull().sum())\n",
    "print(df.head())\n"
   ]
  },
  {
   "cell_type": "code",
   "execution_count": null,
   "id": "255a1869-68b2-4bf1-92f6-67dc62e6b9fb",
   "metadata": {},
   "outputs": [],
   "source": []
  }
 ],
 "metadata": {
  "kernelspec": {
   "display_name": "Python 3 (ipykernel)",
   "language": "python",
   "name": "python3"
  },
  "language_info": {
   "codemirror_mode": {
    "name": "ipython",
    "version": 3
   },
   "file_extension": ".py",
   "mimetype": "text/x-python",
   "name": "python",
   "nbconvert_exporter": "python",
   "pygments_lexer": "ipython3",
   "version": "3.13.3"
  }
 },
 "nbformat": 4,
 "nbformat_minor": 5
}
